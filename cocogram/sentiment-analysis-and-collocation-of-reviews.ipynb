{
 "cells": [
  {
   "cell_type": "markdown",
   "metadata": {
    "_cell_guid": "448cca54-45e0-591e-803d-6eec3b8bc398"
   },
   "source": [
    "# Sentiment Analysis and Collocation of Reviews\n",
    "\n",
    "In this notebook we apply two techniques to the reviews for the Boston-area AirBnBs in our dataset: sentiment analysis and collocation."
   ]
  },
  {
   "cell_type": "code",
   "execution_count": 1,
   "metadata": {
    "_cell_guid": "1b80a140-47df-7d65-7bbd-e28c794c0761"
   },
   "outputs": [],
   "source": [
    "import numpy as np\n",
    "import pandas as pd\n",
    "import seaborn as sns\n",
    "pd.set_option(\"max_columns\", None)\n",
    "\n",
    "reviews = pd.read_csv(\"reviews.csv\")\n",
    "listings = pd.read_csv(\"listings.csv\")"
   ]
  },
  {
   "cell_type": "markdown",
   "metadata": {},
   "source": [
    "## Airbnb aspect ontology: \n",
    "space, experience_offered,neighborhood_overview, transit, access, interaction, house_rules \n",
    "- affective expressions? summary \n",
    "- description ?\n",
    "- geo: stree,.....\n"
   ]
  },
  {
   "cell_type": "code",
   "execution_count": 2,
   "metadata": {
    "_cell_guid": "665b3709-daa4-ce49-d979-961b9b072ab4"
   },
   "outputs": [
    {
     "data": {
      "text/html": [
       "<div>\n",
       "<style scoped>\n",
       "    .dataframe tbody tr th:only-of-type {\n",
       "        vertical-align: middle;\n",
       "    }\n",
       "\n",
       "    .dataframe tbody tr th {\n",
       "        vertical-align: top;\n",
       "    }\n",
       "\n",
       "    .dataframe thead th {\n",
       "        text-align: right;\n",
       "    }\n",
       "</style>\n",
       "<table border=\"1\" class=\"dataframe\">\n",
       "  <thead>\n",
       "    <tr style=\"text-align: right;\">\n",
       "      <th></th>\n",
       "      <th>id</th>\n",
       "      <th>listing_url</th>\n",
       "      <th>scrape_id</th>\n",
       "      <th>last_scraped</th>\n",
       "      <th>name</th>\n",
       "      <th>summary</th>\n",
       "      <th>space</th>\n",
       "      <th>description</th>\n",
       "      <th>experiences_offered</th>\n",
       "      <th>neighborhood_overview</th>\n",
       "      <th>notes</th>\n",
       "      <th>transit</th>\n",
       "      <th>access</th>\n",
       "      <th>interaction</th>\n",
       "      <th>house_rules</th>\n",
       "      <th>thumbnail_url</th>\n",
       "      <th>medium_url</th>\n",
       "      <th>picture_url</th>\n",
       "      <th>xl_picture_url</th>\n",
       "      <th>host_id</th>\n",
       "      <th>host_url</th>\n",
       "      <th>host_name</th>\n",
       "      <th>host_since</th>\n",
       "      <th>host_location</th>\n",
       "      <th>host_about</th>\n",
       "      <th>host_response_time</th>\n",
       "      <th>host_response_rate</th>\n",
       "      <th>host_acceptance_rate</th>\n",
       "      <th>host_is_superhost</th>\n",
       "      <th>host_thumbnail_url</th>\n",
       "      <th>host_picture_url</th>\n",
       "      <th>host_neighbourhood</th>\n",
       "      <th>host_listings_count</th>\n",
       "      <th>host_total_listings_count</th>\n",
       "      <th>host_verifications</th>\n",
       "      <th>host_has_profile_pic</th>\n",
       "      <th>host_identity_verified</th>\n",
       "      <th>street</th>\n",
       "      <th>neighbourhood</th>\n",
       "      <th>neighbourhood_cleansed</th>\n",
       "      <th>neighbourhood_group_cleansed</th>\n",
       "      <th>city</th>\n",
       "      <th>state</th>\n",
       "      <th>zipcode</th>\n",
       "      <th>market</th>\n",
       "      <th>smart_location</th>\n",
       "      <th>country_code</th>\n",
       "      <th>country</th>\n",
       "      <th>latitude</th>\n",
       "      <th>longitude</th>\n",
       "      <th>is_location_exact</th>\n",
       "      <th>property_type</th>\n",
       "      <th>room_type</th>\n",
       "      <th>accommodates</th>\n",
       "      <th>bathrooms</th>\n",
       "      <th>bedrooms</th>\n",
       "      <th>beds</th>\n",
       "      <th>bed_type</th>\n",
       "      <th>amenities</th>\n",
       "      <th>square_feet</th>\n",
       "      <th>price</th>\n",
       "      <th>weekly_price</th>\n",
       "      <th>monthly_price</th>\n",
       "      <th>security_deposit</th>\n",
       "      <th>cleaning_fee</th>\n",
       "      <th>guests_included</th>\n",
       "      <th>extra_people</th>\n",
       "      <th>minimum_nights</th>\n",
       "      <th>maximum_nights</th>\n",
       "      <th>calendar_updated</th>\n",
       "      <th>has_availability</th>\n",
       "      <th>availability_30</th>\n",
       "      <th>availability_60</th>\n",
       "      <th>availability_90</th>\n",
       "      <th>availability_365</th>\n",
       "      <th>calendar_last_scraped</th>\n",
       "      <th>number_of_reviews</th>\n",
       "      <th>first_review</th>\n",
       "      <th>last_review</th>\n",
       "      <th>review_scores_rating</th>\n",
       "      <th>review_scores_accuracy</th>\n",
       "      <th>review_scores_cleanliness</th>\n",
       "      <th>review_scores_checkin</th>\n",
       "      <th>review_scores_communication</th>\n",
       "      <th>review_scores_location</th>\n",
       "      <th>review_scores_value</th>\n",
       "      <th>requires_license</th>\n",
       "      <th>license</th>\n",
       "      <th>jurisdiction_names</th>\n",
       "      <th>instant_bookable</th>\n",
       "      <th>cancellation_policy</th>\n",
       "      <th>require_guest_profile_picture</th>\n",
       "      <th>require_guest_phone_verification</th>\n",
       "      <th>calculated_host_listings_count</th>\n",
       "      <th>reviews_per_month</th>\n",
       "    </tr>\n",
       "  </thead>\n",
       "  <tbody>\n",
       "    <tr>\n",
       "      <th>0</th>\n",
       "      <td>12147973</td>\n",
       "      <td>https://www.airbnb.com/rooms/12147973</td>\n",
       "      <td>20160906204935</td>\n",
       "      <td>2016-09-07</td>\n",
       "      <td>Sunny Bungalow in the City</td>\n",
       "      <td>Cozy, sunny, family home.  Master bedroom high...</td>\n",
       "      <td>The house has an open and cozy feel at the sam...</td>\n",
       "      <td>Cozy, sunny, family home.  Master bedroom high...</td>\n",
       "      <td>none</td>\n",
       "      <td>Roslindale is quiet, convenient and friendly. ...</td>\n",
       "      <td>NaN</td>\n",
       "      <td>The bus stop is 2 blocks away, and frequent. B...</td>\n",
       "      <td>You will have access to 2 bedrooms, a living r...</td>\n",
       "      <td>NaN</td>\n",
       "      <td>Clean up and treat the home the way you'd like...</td>\n",
       "      <td>https://a2.muscache.com/im/pictures/c0842db1-e...</td>\n",
       "      <td>https://a2.muscache.com/im/pictures/c0842db1-e...</td>\n",
       "      <td>https://a2.muscache.com/im/pictures/c0842db1-e...</td>\n",
       "      <td>https://a2.muscache.com/im/pictures/c0842db1-e...</td>\n",
       "      <td>31303940</td>\n",
       "      <td>https://www.airbnb.com/users/show/31303940</td>\n",
       "      <td>Virginia</td>\n",
       "      <td>2015-04-15</td>\n",
       "      <td>Boston, Massachusetts, United States</td>\n",
       "      <td>We are country and city connecting in our deck...</td>\n",
       "      <td>NaN</td>\n",
       "      <td>NaN</td>\n",
       "      <td>NaN</td>\n",
       "      <td>f</td>\n",
       "      <td>https://a2.muscache.com/im/pictures/5936fef0-b...</td>\n",
       "      <td>https://a2.muscache.com/im/pictures/5936fef0-b...</td>\n",
       "      <td>Roslindale</td>\n",
       "      <td>1</td>\n",
       "      <td>1</td>\n",
       "      <td>['email', 'phone', 'facebook', 'reviews']</td>\n",
       "      <td>t</td>\n",
       "      <td>f</td>\n",
       "      <td>Birch Street, Boston, MA 02131, United States</td>\n",
       "      <td>Roslindale</td>\n",
       "      <td>Roslindale</td>\n",
       "      <td>NaN</td>\n",
       "      <td>Boston</td>\n",
       "      <td>MA</td>\n",
       "      <td>02131</td>\n",
       "      <td>Boston</td>\n",
       "      <td>Boston, MA</td>\n",
       "      <td>US</td>\n",
       "      <td>United States</td>\n",
       "      <td>42.282619</td>\n",
       "      <td>-71.133068</td>\n",
       "      <td>t</td>\n",
       "      <td>House</td>\n",
       "      <td>Entire home/apt</td>\n",
       "      <td>4</td>\n",
       "      <td>1.5</td>\n",
       "      <td>2.0</td>\n",
       "      <td>3.0</td>\n",
       "      <td>Real Bed</td>\n",
       "      <td>{TV,\"Wireless Internet\",Kitchen,\"Free Parking ...</td>\n",
       "      <td>NaN</td>\n",
       "      <td>$250.00</td>\n",
       "      <td>NaN</td>\n",
       "      <td>NaN</td>\n",
       "      <td>NaN</td>\n",
       "      <td>$35.00</td>\n",
       "      <td>1</td>\n",
       "      <td>$0.00</td>\n",
       "      <td>2</td>\n",
       "      <td>1125</td>\n",
       "      <td>2 weeks ago</td>\n",
       "      <td>NaN</td>\n",
       "      <td>0</td>\n",
       "      <td>0</td>\n",
       "      <td>0</td>\n",
       "      <td>0</td>\n",
       "      <td>2016-09-06</td>\n",
       "      <td>0</td>\n",
       "      <td>NaN</td>\n",
       "      <td>NaN</td>\n",
       "      <td>NaN</td>\n",
       "      <td>NaN</td>\n",
       "      <td>NaN</td>\n",
       "      <td>NaN</td>\n",
       "      <td>NaN</td>\n",
       "      <td>NaN</td>\n",
       "      <td>NaN</td>\n",
       "      <td>f</td>\n",
       "      <td>NaN</td>\n",
       "      <td>NaN</td>\n",
       "      <td>f</td>\n",
       "      <td>moderate</td>\n",
       "      <td>f</td>\n",
       "      <td>f</td>\n",
       "      <td>1</td>\n",
       "      <td>NaN</td>\n",
       "    </tr>\n",
       "    <tr>\n",
       "      <th>1</th>\n",
       "      <td>3075044</td>\n",
       "      <td>https://www.airbnb.com/rooms/3075044</td>\n",
       "      <td>20160906204935</td>\n",
       "      <td>2016-09-07</td>\n",
       "      <td>Charming room in pet friendly apt</td>\n",
       "      <td>Charming and quiet room in a second floor 1910...</td>\n",
       "      <td>Small but cozy and quite room with a full size...</td>\n",
       "      <td>Charming and quiet room in a second floor 1910...</td>\n",
       "      <td>none</td>\n",
       "      <td>The room is in Roslindale, a diverse and prima...</td>\n",
       "      <td>If you don't have a US cell phone, you can tex...</td>\n",
       "      <td>Plenty of safe street parking. Bus stops a few...</td>\n",
       "      <td>Apt has one more bedroom (which I use) and lar...</td>\n",
       "      <td>If I am at home, I am likely working in my hom...</td>\n",
       "      <td>Pet friendly but please confirm with me if the...</td>\n",
       "      <td>https://a1.muscache.com/im/pictures/39327812/d...</td>\n",
       "      <td>https://a1.muscache.com/im/pictures/39327812/d...</td>\n",
       "      <td>https://a1.muscache.com/im/pictures/39327812/d...</td>\n",
       "      <td>https://a1.muscache.com/im/pictures/39327812/d...</td>\n",
       "      <td>2572247</td>\n",
       "      <td>https://www.airbnb.com/users/show/2572247</td>\n",
       "      <td>Andrea</td>\n",
       "      <td>2012-06-07</td>\n",
       "      <td>Boston, Massachusetts, United States</td>\n",
       "      <td>I live in Boston and I like to travel and have...</td>\n",
       "      <td>within an hour</td>\n",
       "      <td>100%</td>\n",
       "      <td>100%</td>\n",
       "      <td>f</td>\n",
       "      <td>https://a2.muscache.com/im/users/2572247/profi...</td>\n",
       "      <td>https://a2.muscache.com/im/users/2572247/profi...</td>\n",
       "      <td>Roslindale</td>\n",
       "      <td>1</td>\n",
       "      <td>1</td>\n",
       "      <td>['email', 'phone', 'facebook', 'linkedin', 'am...</td>\n",
       "      <td>t</td>\n",
       "      <td>t</td>\n",
       "      <td>Pinehurst Street, Boston, MA 02131, United States</td>\n",
       "      <td>Roslindale</td>\n",
       "      <td>Roslindale</td>\n",
       "      <td>NaN</td>\n",
       "      <td>Boston</td>\n",
       "      <td>MA</td>\n",
       "      <td>02131</td>\n",
       "      <td>Boston</td>\n",
       "      <td>Boston, MA</td>\n",
       "      <td>US</td>\n",
       "      <td>United States</td>\n",
       "      <td>42.286241</td>\n",
       "      <td>-71.134374</td>\n",
       "      <td>t</td>\n",
       "      <td>Apartment</td>\n",
       "      <td>Private room</td>\n",
       "      <td>2</td>\n",
       "      <td>1.0</td>\n",
       "      <td>1.0</td>\n",
       "      <td>1.0</td>\n",
       "      <td>Real Bed</td>\n",
       "      <td>{TV,Internet,\"Wireless Internet\",\"Air Conditio...</td>\n",
       "      <td>NaN</td>\n",
       "      <td>$65.00</td>\n",
       "      <td>$400.00</td>\n",
       "      <td>NaN</td>\n",
       "      <td>$95.00</td>\n",
       "      <td>$10.00</td>\n",
       "      <td>0</td>\n",
       "      <td>$0.00</td>\n",
       "      <td>2</td>\n",
       "      <td>15</td>\n",
       "      <td>a week ago</td>\n",
       "      <td>NaN</td>\n",
       "      <td>26</td>\n",
       "      <td>54</td>\n",
       "      <td>84</td>\n",
       "      <td>359</td>\n",
       "      <td>2016-09-06</td>\n",
       "      <td>36</td>\n",
       "      <td>2014-06-01</td>\n",
       "      <td>2016-08-13</td>\n",
       "      <td>94.0</td>\n",
       "      <td>10.0</td>\n",
       "      <td>9.0</td>\n",
       "      <td>10.0</td>\n",
       "      <td>10.0</td>\n",
       "      <td>9.0</td>\n",
       "      <td>9.0</td>\n",
       "      <td>f</td>\n",
       "      <td>NaN</td>\n",
       "      <td>NaN</td>\n",
       "      <td>t</td>\n",
       "      <td>moderate</td>\n",
       "      <td>f</td>\n",
       "      <td>f</td>\n",
       "      <td>1</td>\n",
       "      <td>1.30</td>\n",
       "    </tr>\n",
       "    <tr>\n",
       "      <th>2</th>\n",
       "      <td>6976</td>\n",
       "      <td>https://www.airbnb.com/rooms/6976</td>\n",
       "      <td>20160906204935</td>\n",
       "      <td>2016-09-07</td>\n",
       "      <td>Mexican Folk Art Haven in Boston</td>\n",
       "      <td>Come stay with a friendly, middle-aged guy in ...</td>\n",
       "      <td>Come stay with a friendly, middle-aged guy in ...</td>\n",
       "      <td>Come stay with a friendly, middle-aged guy in ...</td>\n",
       "      <td>none</td>\n",
       "      <td>The LOCATION: Roslindale is a safe and diverse...</td>\n",
       "      <td>I am in a scenic part of Boston with a couple ...</td>\n",
       "      <td>PUBLIC TRANSPORTATION: From the house, quick p...</td>\n",
       "      <td>I am living in the apartment during your stay,...</td>\n",
       "      <td>ABOUT ME: I'm a laid-back, friendly, unmarried...</td>\n",
       "      <td>I encourage you to use my kitchen, cooking and...</td>\n",
       "      <td>https://a2.muscache.com/im/pictures/6ae8335d-9...</td>\n",
       "      <td>https://a2.muscache.com/im/pictures/6ae8335d-9...</td>\n",
       "      <td>https://a2.muscache.com/im/pictures/6ae8335d-9...</td>\n",
       "      <td>https://a2.muscache.com/im/pictures/6ae8335d-9...</td>\n",
       "      <td>16701</td>\n",
       "      <td>https://www.airbnb.com/users/show/16701</td>\n",
       "      <td>Phil</td>\n",
       "      <td>2009-05-11</td>\n",
       "      <td>Boston, Massachusetts, United States</td>\n",
       "      <td>I am a middle-aged, single male with a wide ra...</td>\n",
       "      <td>within a few hours</td>\n",
       "      <td>100%</td>\n",
       "      <td>88%</td>\n",
       "      <td>t</td>\n",
       "      <td>https://a2.muscache.com/im/users/16701/profile...</td>\n",
       "      <td>https://a2.muscache.com/im/users/16701/profile...</td>\n",
       "      <td>Roslindale</td>\n",
       "      <td>1</td>\n",
       "      <td>1</td>\n",
       "      <td>['email', 'phone', 'reviews', 'jumio']</td>\n",
       "      <td>t</td>\n",
       "      <td>t</td>\n",
       "      <td>Ardale St., Boston, MA 02131, United States</td>\n",
       "      <td>Roslindale</td>\n",
       "      <td>Roslindale</td>\n",
       "      <td>NaN</td>\n",
       "      <td>Boston</td>\n",
       "      <td>MA</td>\n",
       "      <td>02131</td>\n",
       "      <td>Boston</td>\n",
       "      <td>Boston, MA</td>\n",
       "      <td>US</td>\n",
       "      <td>United States</td>\n",
       "      <td>42.292438</td>\n",
       "      <td>-71.135765</td>\n",
       "      <td>t</td>\n",
       "      <td>Apartment</td>\n",
       "      <td>Private room</td>\n",
       "      <td>2</td>\n",
       "      <td>1.0</td>\n",
       "      <td>1.0</td>\n",
       "      <td>1.0</td>\n",
       "      <td>Real Bed</td>\n",
       "      <td>{TV,\"Cable TV\",\"Wireless Internet\",\"Air Condit...</td>\n",
       "      <td>NaN</td>\n",
       "      <td>$65.00</td>\n",
       "      <td>$395.00</td>\n",
       "      <td>$1,350.00</td>\n",
       "      <td>NaN</td>\n",
       "      <td>NaN</td>\n",
       "      <td>1</td>\n",
       "      <td>$20.00</td>\n",
       "      <td>3</td>\n",
       "      <td>45</td>\n",
       "      <td>5 days ago</td>\n",
       "      <td>NaN</td>\n",
       "      <td>19</td>\n",
       "      <td>46</td>\n",
       "      <td>61</td>\n",
       "      <td>319</td>\n",
       "      <td>2016-09-06</td>\n",
       "      <td>41</td>\n",
       "      <td>2009-07-19</td>\n",
       "      <td>2016-08-05</td>\n",
       "      <td>98.0</td>\n",
       "      <td>10.0</td>\n",
       "      <td>9.0</td>\n",
       "      <td>10.0</td>\n",
       "      <td>10.0</td>\n",
       "      <td>9.0</td>\n",
       "      <td>10.0</td>\n",
       "      <td>f</td>\n",
       "      <td>NaN</td>\n",
       "      <td>NaN</td>\n",
       "      <td>f</td>\n",
       "      <td>moderate</td>\n",
       "      <td>t</td>\n",
       "      <td>f</td>\n",
       "      <td>1</td>\n",
       "      <td>0.47</td>\n",
       "    </tr>\n",
       "    <tr>\n",
       "      <th>3</th>\n",
       "      <td>1436513</td>\n",
       "      <td>https://www.airbnb.com/rooms/1436513</td>\n",
       "      <td>20160906204935</td>\n",
       "      <td>2016-09-07</td>\n",
       "      <td>Spacious Sunny Bedroom Suite in Historic Home</td>\n",
       "      <td>Come experience the comforts of home away from...</td>\n",
       "      <td>Most places you find in Boston are small howev...</td>\n",
       "      <td>Come experience the comforts of home away from...</td>\n",
       "      <td>none</td>\n",
       "      <td>Roslindale is a lovely little neighborhood loc...</td>\n",
       "      <td>Please be mindful of the property as it is old...</td>\n",
       "      <td>There are buses that stop right in front of th...</td>\n",
       "      <td>The basement has a washer dryer and gym area. ...</td>\n",
       "      <td>We do live in the house therefore might be som...</td>\n",
       "      <td>- The bathroom and house are shared so please ...</td>\n",
       "      <td>https://a2.muscache.com/im/pictures/39764190-1...</td>\n",
       "      <td>https://a2.muscache.com/im/pictures/39764190-1...</td>\n",
       "      <td>https://a2.muscache.com/im/pictures/39764190-1...</td>\n",
       "      <td>https://a2.muscache.com/im/pictures/39764190-1...</td>\n",
       "      <td>6031442</td>\n",
       "      <td>https://www.airbnb.com/users/show/6031442</td>\n",
       "      <td>Meghna</td>\n",
       "      <td>2013-04-21</td>\n",
       "      <td>Boston, Massachusetts, United States</td>\n",
       "      <td>My husband and I live on the property.  He’s a...</td>\n",
       "      <td>within a few hours</td>\n",
       "      <td>100%</td>\n",
       "      <td>50%</td>\n",
       "      <td>f</td>\n",
       "      <td>https://a2.muscache.com/im/pictures/5d430cde-7...</td>\n",
       "      <td>https://a2.muscache.com/im/pictures/5d430cde-7...</td>\n",
       "      <td>NaN</td>\n",
       "      <td>1</td>\n",
       "      <td>1</td>\n",
       "      <td>['email', 'phone', 'reviews']</td>\n",
       "      <td>t</td>\n",
       "      <td>f</td>\n",
       "      <td>Boston, MA, United States</td>\n",
       "      <td>NaN</td>\n",
       "      <td>Roslindale</td>\n",
       "      <td>NaN</td>\n",
       "      <td>Boston</td>\n",
       "      <td>MA</td>\n",
       "      <td>NaN</td>\n",
       "      <td>Boston</td>\n",
       "      <td>Boston, MA</td>\n",
       "      <td>US</td>\n",
       "      <td>United States</td>\n",
       "      <td>42.281106</td>\n",
       "      <td>-71.121021</td>\n",
       "      <td>f</td>\n",
       "      <td>House</td>\n",
       "      <td>Private room</td>\n",
       "      <td>4</td>\n",
       "      <td>1.0</td>\n",
       "      <td>1.0</td>\n",
       "      <td>2.0</td>\n",
       "      <td>Real Bed</td>\n",
       "      <td>{TV,Internet,\"Wireless Internet\",\"Air Conditio...</td>\n",
       "      <td>NaN</td>\n",
       "      <td>$75.00</td>\n",
       "      <td>NaN</td>\n",
       "      <td>NaN</td>\n",
       "      <td>$100.00</td>\n",
       "      <td>$50.00</td>\n",
       "      <td>2</td>\n",
       "      <td>$25.00</td>\n",
       "      <td>1</td>\n",
       "      <td>1125</td>\n",
       "      <td>a week ago</td>\n",
       "      <td>NaN</td>\n",
       "      <td>6</td>\n",
       "      <td>16</td>\n",
       "      <td>26</td>\n",
       "      <td>98</td>\n",
       "      <td>2016-09-06</td>\n",
       "      <td>1</td>\n",
       "      <td>2016-08-28</td>\n",
       "      <td>2016-08-28</td>\n",
       "      <td>100.0</td>\n",
       "      <td>10.0</td>\n",
       "      <td>10.0</td>\n",
       "      <td>10.0</td>\n",
       "      <td>10.0</td>\n",
       "      <td>10.0</td>\n",
       "      <td>10.0</td>\n",
       "      <td>f</td>\n",
       "      <td>NaN</td>\n",
       "      <td>NaN</td>\n",
       "      <td>f</td>\n",
       "      <td>moderate</td>\n",
       "      <td>f</td>\n",
       "      <td>f</td>\n",
       "      <td>1</td>\n",
       "      <td>1.00</td>\n",
       "    </tr>\n",
       "    <tr>\n",
       "      <th>4</th>\n",
       "      <td>7651065</td>\n",
       "      <td>https://www.airbnb.com/rooms/7651065</td>\n",
       "      <td>20160906204935</td>\n",
       "      <td>2016-09-07</td>\n",
       "      <td>Come Home to Boston</td>\n",
       "      <td>My comfy, clean and relaxing home is one block...</td>\n",
       "      <td>Clean, attractive, private room, one block fro...</td>\n",
       "      <td>My comfy, clean and relaxing home is one block...</td>\n",
       "      <td>none</td>\n",
       "      <td>I love the proximity to downtown, the neighbor...</td>\n",
       "      <td>I have one roommate who lives on the lower lev...</td>\n",
       "      <td>From Logan Airport  and South Station you have...</td>\n",
       "      <td>You will have access to the front and side por...</td>\n",
       "      <td>I love my city and really enjoy sharing it wit...</td>\n",
       "      <td>Please no smoking in the house, porch or on th...</td>\n",
       "      <td>https://a1.muscache.com/im/pictures/97154760/8...</td>\n",
       "      <td>https://a1.muscache.com/im/pictures/97154760/8...</td>\n",
       "      <td>https://a1.muscache.com/im/pictures/97154760/8...</td>\n",
       "      <td>https://a1.muscache.com/im/pictures/97154760/8...</td>\n",
       "      <td>15396970</td>\n",
       "      <td>https://www.airbnb.com/users/show/15396970</td>\n",
       "      <td>Linda</td>\n",
       "      <td>2014-05-11</td>\n",
       "      <td>Boston, Massachusetts, United States</td>\n",
       "      <td>I work full time for a public school district....</td>\n",
       "      <td>within an hour</td>\n",
       "      <td>100%</td>\n",
       "      <td>100%</td>\n",
       "      <td>t</td>\n",
       "      <td>https://a0.muscache.com/im/users/15396970/prof...</td>\n",
       "      <td>https://a0.muscache.com/im/users/15396970/prof...</td>\n",
       "      <td>Roslindale</td>\n",
       "      <td>1</td>\n",
       "      <td>1</td>\n",
       "      <td>['email', 'phone', 'reviews', 'kba']</td>\n",
       "      <td>t</td>\n",
       "      <td>t</td>\n",
       "      <td>Durnell Avenue, Boston, MA 02131, United States</td>\n",
       "      <td>Roslindale</td>\n",
       "      <td>Roslindale</td>\n",
       "      <td>NaN</td>\n",
       "      <td>Boston</td>\n",
       "      <td>MA</td>\n",
       "      <td>02131</td>\n",
       "      <td>Boston</td>\n",
       "      <td>Boston, MA</td>\n",
       "      <td>US</td>\n",
       "      <td>United States</td>\n",
       "      <td>42.284512</td>\n",
       "      <td>-71.136258</td>\n",
       "      <td>t</td>\n",
       "      <td>House</td>\n",
       "      <td>Private room</td>\n",
       "      <td>2</td>\n",
       "      <td>1.5</td>\n",
       "      <td>1.0</td>\n",
       "      <td>2.0</td>\n",
       "      <td>Real Bed</td>\n",
       "      <td>{Internet,\"Wireless Internet\",\"Air Conditionin...</td>\n",
       "      <td>NaN</td>\n",
       "      <td>$79.00</td>\n",
       "      <td>NaN</td>\n",
       "      <td>NaN</td>\n",
       "      <td>NaN</td>\n",
       "      <td>$15.00</td>\n",
       "      <td>1</td>\n",
       "      <td>$0.00</td>\n",
       "      <td>2</td>\n",
       "      <td>31</td>\n",
       "      <td>2 weeks ago</td>\n",
       "      <td>NaN</td>\n",
       "      <td>13</td>\n",
       "      <td>34</td>\n",
       "      <td>59</td>\n",
       "      <td>334</td>\n",
       "      <td>2016-09-06</td>\n",
       "      <td>29</td>\n",
       "      <td>2015-08-18</td>\n",
       "      <td>2016-09-01</td>\n",
       "      <td>99.0</td>\n",
       "      <td>10.0</td>\n",
       "      <td>10.0</td>\n",
       "      <td>10.0</td>\n",
       "      <td>10.0</td>\n",
       "      <td>9.0</td>\n",
       "      <td>10.0</td>\n",
       "      <td>f</td>\n",
       "      <td>NaN</td>\n",
       "      <td>NaN</td>\n",
       "      <td>f</td>\n",
       "      <td>flexible</td>\n",
       "      <td>f</td>\n",
       "      <td>f</td>\n",
       "      <td>1</td>\n",
       "      <td>2.25</td>\n",
       "    </tr>\n",
       "  </tbody>\n",
       "</table>\n",
       "</div>"
      ],
      "text/plain": [
       "         id                            listing_url       scrape_id  \\\n",
       "0  12147973  https://www.airbnb.com/rooms/12147973  20160906204935   \n",
       "1   3075044   https://www.airbnb.com/rooms/3075044  20160906204935   \n",
       "2      6976      https://www.airbnb.com/rooms/6976  20160906204935   \n",
       "3   1436513   https://www.airbnb.com/rooms/1436513  20160906204935   \n",
       "4   7651065   https://www.airbnb.com/rooms/7651065  20160906204935   \n",
       "\n",
       "  last_scraped                                           name  \\\n",
       "0   2016-09-07                     Sunny Bungalow in the City   \n",
       "1   2016-09-07              Charming room in pet friendly apt   \n",
       "2   2016-09-07               Mexican Folk Art Haven in Boston   \n",
       "3   2016-09-07  Spacious Sunny Bedroom Suite in Historic Home   \n",
       "4   2016-09-07                            Come Home to Boston   \n",
       "\n",
       "                                             summary  \\\n",
       "0  Cozy, sunny, family home.  Master bedroom high...   \n",
       "1  Charming and quiet room in a second floor 1910...   \n",
       "2  Come stay with a friendly, middle-aged guy in ...   \n",
       "3  Come experience the comforts of home away from...   \n",
       "4  My comfy, clean and relaxing home is one block...   \n",
       "\n",
       "                                               space  \\\n",
       "0  The house has an open and cozy feel at the sam...   \n",
       "1  Small but cozy and quite room with a full size...   \n",
       "2  Come stay with a friendly, middle-aged guy in ...   \n",
       "3  Most places you find in Boston are small howev...   \n",
       "4  Clean, attractive, private room, one block fro...   \n",
       "\n",
       "                                         description experiences_offered  \\\n",
       "0  Cozy, sunny, family home.  Master bedroom high...                none   \n",
       "1  Charming and quiet room in a second floor 1910...                none   \n",
       "2  Come stay with a friendly, middle-aged guy in ...                none   \n",
       "3  Come experience the comforts of home away from...                none   \n",
       "4  My comfy, clean and relaxing home is one block...                none   \n",
       "\n",
       "                               neighborhood_overview  \\\n",
       "0  Roslindale is quiet, convenient and friendly. ...   \n",
       "1  The room is in Roslindale, a diverse and prima...   \n",
       "2  The LOCATION: Roslindale is a safe and diverse...   \n",
       "3  Roslindale is a lovely little neighborhood loc...   \n",
       "4  I love the proximity to downtown, the neighbor...   \n",
       "\n",
       "                                               notes  \\\n",
       "0                                                NaN   \n",
       "1  If you don't have a US cell phone, you can tex...   \n",
       "2  I am in a scenic part of Boston with a couple ...   \n",
       "3  Please be mindful of the property as it is old...   \n",
       "4  I have one roommate who lives on the lower lev...   \n",
       "\n",
       "                                             transit  \\\n",
       "0  The bus stop is 2 blocks away, and frequent. B...   \n",
       "1  Plenty of safe street parking. Bus stops a few...   \n",
       "2  PUBLIC TRANSPORTATION: From the house, quick p...   \n",
       "3  There are buses that stop right in front of th...   \n",
       "4  From Logan Airport  and South Station you have...   \n",
       "\n",
       "                                              access  \\\n",
       "0  You will have access to 2 bedrooms, a living r...   \n",
       "1  Apt has one more bedroom (which I use) and lar...   \n",
       "2  I am living in the apartment during your stay,...   \n",
       "3  The basement has a washer dryer and gym area. ...   \n",
       "4  You will have access to the front and side por...   \n",
       "\n",
       "                                         interaction  \\\n",
       "0                                                NaN   \n",
       "1  If I am at home, I am likely working in my hom...   \n",
       "2  ABOUT ME: I'm a laid-back, friendly, unmarried...   \n",
       "3  We do live in the house therefore might be som...   \n",
       "4  I love my city and really enjoy sharing it wit...   \n",
       "\n",
       "                                         house_rules  \\\n",
       "0  Clean up and treat the home the way you'd like...   \n",
       "1  Pet friendly but please confirm with me if the...   \n",
       "2  I encourage you to use my kitchen, cooking and...   \n",
       "3  - The bathroom and house are shared so please ...   \n",
       "4  Please no smoking in the house, porch or on th...   \n",
       "\n",
       "                                       thumbnail_url  \\\n",
       "0  https://a2.muscache.com/im/pictures/c0842db1-e...   \n",
       "1  https://a1.muscache.com/im/pictures/39327812/d...   \n",
       "2  https://a2.muscache.com/im/pictures/6ae8335d-9...   \n",
       "3  https://a2.muscache.com/im/pictures/39764190-1...   \n",
       "4  https://a1.muscache.com/im/pictures/97154760/8...   \n",
       "\n",
       "                                          medium_url  \\\n",
       "0  https://a2.muscache.com/im/pictures/c0842db1-e...   \n",
       "1  https://a1.muscache.com/im/pictures/39327812/d...   \n",
       "2  https://a2.muscache.com/im/pictures/6ae8335d-9...   \n",
       "3  https://a2.muscache.com/im/pictures/39764190-1...   \n",
       "4  https://a1.muscache.com/im/pictures/97154760/8...   \n",
       "\n",
       "                                         picture_url  \\\n",
       "0  https://a2.muscache.com/im/pictures/c0842db1-e...   \n",
       "1  https://a1.muscache.com/im/pictures/39327812/d...   \n",
       "2  https://a2.muscache.com/im/pictures/6ae8335d-9...   \n",
       "3  https://a2.muscache.com/im/pictures/39764190-1...   \n",
       "4  https://a1.muscache.com/im/pictures/97154760/8...   \n",
       "\n",
       "                                      xl_picture_url   host_id  \\\n",
       "0  https://a2.muscache.com/im/pictures/c0842db1-e...  31303940   \n",
       "1  https://a1.muscache.com/im/pictures/39327812/d...   2572247   \n",
       "2  https://a2.muscache.com/im/pictures/6ae8335d-9...     16701   \n",
       "3  https://a2.muscache.com/im/pictures/39764190-1...   6031442   \n",
       "4  https://a1.muscache.com/im/pictures/97154760/8...  15396970   \n",
       "\n",
       "                                     host_url host_name  host_since  \\\n",
       "0  https://www.airbnb.com/users/show/31303940  Virginia  2015-04-15   \n",
       "1   https://www.airbnb.com/users/show/2572247    Andrea  2012-06-07   \n",
       "2     https://www.airbnb.com/users/show/16701      Phil  2009-05-11   \n",
       "3   https://www.airbnb.com/users/show/6031442    Meghna  2013-04-21   \n",
       "4  https://www.airbnb.com/users/show/15396970     Linda  2014-05-11   \n",
       "\n",
       "                          host_location  \\\n",
       "0  Boston, Massachusetts, United States   \n",
       "1  Boston, Massachusetts, United States   \n",
       "2  Boston, Massachusetts, United States   \n",
       "3  Boston, Massachusetts, United States   \n",
       "4  Boston, Massachusetts, United States   \n",
       "\n",
       "                                          host_about  host_response_time  \\\n",
       "0  We are country and city connecting in our deck...                 NaN   \n",
       "1  I live in Boston and I like to travel and have...      within an hour   \n",
       "2  I am a middle-aged, single male with a wide ra...  within a few hours   \n",
       "3  My husband and I live on the property.  He’s a...  within a few hours   \n",
       "4  I work full time for a public school district....      within an hour   \n",
       "\n",
       "  host_response_rate host_acceptance_rate host_is_superhost  \\\n",
       "0                NaN                  NaN                 f   \n",
       "1               100%                 100%                 f   \n",
       "2               100%                  88%                 t   \n",
       "3               100%                  50%                 f   \n",
       "4               100%                 100%                 t   \n",
       "\n",
       "                                  host_thumbnail_url  \\\n",
       "0  https://a2.muscache.com/im/pictures/5936fef0-b...   \n",
       "1  https://a2.muscache.com/im/users/2572247/profi...   \n",
       "2  https://a2.muscache.com/im/users/16701/profile...   \n",
       "3  https://a2.muscache.com/im/pictures/5d430cde-7...   \n",
       "4  https://a0.muscache.com/im/users/15396970/prof...   \n",
       "\n",
       "                                    host_picture_url host_neighbourhood  \\\n",
       "0  https://a2.muscache.com/im/pictures/5936fef0-b...         Roslindale   \n",
       "1  https://a2.muscache.com/im/users/2572247/profi...         Roslindale   \n",
       "2  https://a2.muscache.com/im/users/16701/profile...         Roslindale   \n",
       "3  https://a2.muscache.com/im/pictures/5d430cde-7...                NaN   \n",
       "4  https://a0.muscache.com/im/users/15396970/prof...         Roslindale   \n",
       "\n",
       "   host_listings_count  host_total_listings_count  \\\n",
       "0                    1                          1   \n",
       "1                    1                          1   \n",
       "2                    1                          1   \n",
       "3                    1                          1   \n",
       "4                    1                          1   \n",
       "\n",
       "                                  host_verifications host_has_profile_pic  \\\n",
       "0          ['email', 'phone', 'facebook', 'reviews']                    t   \n",
       "1  ['email', 'phone', 'facebook', 'linkedin', 'am...                    t   \n",
       "2             ['email', 'phone', 'reviews', 'jumio']                    t   \n",
       "3                      ['email', 'phone', 'reviews']                    t   \n",
       "4               ['email', 'phone', 'reviews', 'kba']                    t   \n",
       "\n",
       "  host_identity_verified                                             street  \\\n",
       "0                      f      Birch Street, Boston, MA 02131, United States   \n",
       "1                      t  Pinehurst Street, Boston, MA 02131, United States   \n",
       "2                      t        Ardale St., Boston, MA 02131, United States   \n",
       "3                      f                          Boston, MA, United States   \n",
       "4                      t    Durnell Avenue, Boston, MA 02131, United States   \n",
       "\n",
       "  neighbourhood neighbourhood_cleansed  neighbourhood_group_cleansed    city  \\\n",
       "0    Roslindale             Roslindale                           NaN  Boston   \n",
       "1    Roslindale             Roslindale                           NaN  Boston   \n",
       "2    Roslindale             Roslindale                           NaN  Boston   \n",
       "3           NaN             Roslindale                           NaN  Boston   \n",
       "4    Roslindale             Roslindale                           NaN  Boston   \n",
       "\n",
       "  state zipcode  market smart_location country_code        country   latitude  \\\n",
       "0    MA   02131  Boston     Boston, MA           US  United States  42.282619   \n",
       "1    MA   02131  Boston     Boston, MA           US  United States  42.286241   \n",
       "2    MA   02131  Boston     Boston, MA           US  United States  42.292438   \n",
       "3    MA     NaN  Boston     Boston, MA           US  United States  42.281106   \n",
       "4    MA   02131  Boston     Boston, MA           US  United States  42.284512   \n",
       "\n",
       "   longitude is_location_exact property_type        room_type  accommodates  \\\n",
       "0 -71.133068                 t         House  Entire home/apt             4   \n",
       "1 -71.134374                 t     Apartment     Private room             2   \n",
       "2 -71.135765                 t     Apartment     Private room             2   \n",
       "3 -71.121021                 f         House     Private room             4   \n",
       "4 -71.136258                 t         House     Private room             2   \n",
       "\n",
       "   bathrooms  bedrooms  beds  bed_type  \\\n",
       "0        1.5       2.0   3.0  Real Bed   \n",
       "1        1.0       1.0   1.0  Real Bed   \n",
       "2        1.0       1.0   1.0  Real Bed   \n",
       "3        1.0       1.0   2.0  Real Bed   \n",
       "4        1.5       1.0   2.0  Real Bed   \n",
       "\n",
       "                                           amenities  square_feet    price  \\\n",
       "0  {TV,\"Wireless Internet\",Kitchen,\"Free Parking ...          NaN  $250.00   \n",
       "1  {TV,Internet,\"Wireless Internet\",\"Air Conditio...          NaN   $65.00   \n",
       "2  {TV,\"Cable TV\",\"Wireless Internet\",\"Air Condit...          NaN   $65.00   \n",
       "3  {TV,Internet,\"Wireless Internet\",\"Air Conditio...          NaN   $75.00   \n",
       "4  {Internet,\"Wireless Internet\",\"Air Conditionin...          NaN   $79.00   \n",
       "\n",
       "  weekly_price monthly_price security_deposit cleaning_fee  guests_included  \\\n",
       "0          NaN           NaN              NaN       $35.00                1   \n",
       "1      $400.00           NaN           $95.00       $10.00                0   \n",
       "2      $395.00     $1,350.00              NaN          NaN                1   \n",
       "3          NaN           NaN          $100.00       $50.00                2   \n",
       "4          NaN           NaN              NaN       $15.00                1   \n",
       "\n",
       "  extra_people  minimum_nights  maximum_nights calendar_updated  \\\n",
       "0        $0.00               2            1125      2 weeks ago   \n",
       "1        $0.00               2              15       a week ago   \n",
       "2       $20.00               3              45       5 days ago   \n",
       "3       $25.00               1            1125       a week ago   \n",
       "4        $0.00               2              31      2 weeks ago   \n",
       "\n",
       "   has_availability  availability_30  availability_60  availability_90  \\\n",
       "0               NaN                0                0                0   \n",
       "1               NaN               26               54               84   \n",
       "2               NaN               19               46               61   \n",
       "3               NaN                6               16               26   \n",
       "4               NaN               13               34               59   \n",
       "\n",
       "   availability_365 calendar_last_scraped  number_of_reviews first_review  \\\n",
       "0                 0            2016-09-06                  0          NaN   \n",
       "1               359            2016-09-06                 36   2014-06-01   \n",
       "2               319            2016-09-06                 41   2009-07-19   \n",
       "3                98            2016-09-06                  1   2016-08-28   \n",
       "4               334            2016-09-06                 29   2015-08-18   \n",
       "\n",
       "  last_review  review_scores_rating  review_scores_accuracy  \\\n",
       "0         NaN                   NaN                     NaN   \n",
       "1  2016-08-13                  94.0                    10.0   \n",
       "2  2016-08-05                  98.0                    10.0   \n",
       "3  2016-08-28                 100.0                    10.0   \n",
       "4  2016-09-01                  99.0                    10.0   \n",
       "\n",
       "   review_scores_cleanliness  review_scores_checkin  \\\n",
       "0                        NaN                    NaN   \n",
       "1                        9.0                   10.0   \n",
       "2                        9.0                   10.0   \n",
       "3                       10.0                   10.0   \n",
       "4                       10.0                   10.0   \n",
       "\n",
       "   review_scores_communication  review_scores_location  review_scores_value  \\\n",
       "0                          NaN                     NaN                  NaN   \n",
       "1                         10.0                     9.0                  9.0   \n",
       "2                         10.0                     9.0                 10.0   \n",
       "3                         10.0                    10.0                 10.0   \n",
       "4                         10.0                     9.0                 10.0   \n",
       "\n",
       "  requires_license  license  jurisdiction_names instant_bookable  \\\n",
       "0                f      NaN                 NaN                f   \n",
       "1                f      NaN                 NaN                t   \n",
       "2                f      NaN                 NaN                f   \n",
       "3                f      NaN                 NaN                f   \n",
       "4                f      NaN                 NaN                f   \n",
       "\n",
       "  cancellation_policy require_guest_profile_picture  \\\n",
       "0            moderate                             f   \n",
       "1            moderate                             f   \n",
       "2            moderate                             t   \n",
       "3            moderate                             f   \n",
       "4            flexible                             f   \n",
       "\n",
       "  require_guest_phone_verification  calculated_host_listings_count  \\\n",
       "0                                f                               1   \n",
       "1                                f                               1   \n",
       "2                                f                               1   \n",
       "3                                f                               1   \n",
       "4                                f                               1   \n",
       "\n",
       "   reviews_per_month  \n",
       "0                NaN  \n",
       "1               1.30  \n",
       "2               0.47  \n",
       "3               1.00  \n",
       "4               2.25  "
      ]
     },
     "execution_count": 2,
     "metadata": {},
     "output_type": "execute_result"
    }
   ],
   "source": [
    "listings.head()"
   ]
  },
  {
   "cell_type": "code",
   "execution_count": null,
   "metadata": {},
   "outputs": [],
   "source": []
  },
  {
   "cell_type": "code",
   "execution_count": 3,
   "metadata": {
    "_cell_guid": "a7ab1492-204e-f6c3-6b95-bf323f311024"
   },
   "outputs": [
    {
     "data": {
      "text/html": [
       "<div>\n",
       "<style scoped>\n",
       "    .dataframe tbody tr th:only-of-type {\n",
       "        vertical-align: middle;\n",
       "    }\n",
       "\n",
       "    .dataframe tbody tr th {\n",
       "        vertical-align: top;\n",
       "    }\n",
       "\n",
       "    .dataframe thead th {\n",
       "        text-align: right;\n",
       "    }\n",
       "</style>\n",
       "<table border=\"1\" class=\"dataframe\">\n",
       "  <thead>\n",
       "    <tr style=\"text-align: right;\">\n",
       "      <th></th>\n",
       "      <th>listing_id</th>\n",
       "      <th>id</th>\n",
       "      <th>date</th>\n",
       "      <th>reviewer_id</th>\n",
       "      <th>reviewer_name</th>\n",
       "      <th>comments</th>\n",
       "    </tr>\n",
       "  </thead>\n",
       "  <tbody>\n",
       "    <tr>\n",
       "      <th>0</th>\n",
       "      <td>1178162</td>\n",
       "      <td>4724140</td>\n",
       "      <td>2013-05-21</td>\n",
       "      <td>4298113</td>\n",
       "      <td>Olivier</td>\n",
       "      <td>My stay at islam's place was really cool! Good...</td>\n",
       "    </tr>\n",
       "    <tr>\n",
       "      <th>1</th>\n",
       "      <td>1178162</td>\n",
       "      <td>4869189</td>\n",
       "      <td>2013-05-29</td>\n",
       "      <td>6452964</td>\n",
       "      <td>Charlotte</td>\n",
       "      <td>Great location for both airport and city - gre...</td>\n",
       "    </tr>\n",
       "    <tr>\n",
       "      <th>2</th>\n",
       "      <td>1178162</td>\n",
       "      <td>5003196</td>\n",
       "      <td>2013-06-06</td>\n",
       "      <td>6449554</td>\n",
       "      <td>Sebastian</td>\n",
       "      <td>We really enjoyed our stay at Islams house. Fr...</td>\n",
       "    </tr>\n",
       "    <tr>\n",
       "      <th>3</th>\n",
       "      <td>1178162</td>\n",
       "      <td>5150351</td>\n",
       "      <td>2013-06-15</td>\n",
       "      <td>2215611</td>\n",
       "      <td>Marine</td>\n",
       "      <td>The room was nice and clean and so were the co...</td>\n",
       "    </tr>\n",
       "    <tr>\n",
       "      <th>4</th>\n",
       "      <td>1178162</td>\n",
       "      <td>5171140</td>\n",
       "      <td>2013-06-16</td>\n",
       "      <td>6848427</td>\n",
       "      <td>Andrew</td>\n",
       "      <td>Great location. Just 5 mins walk from the Airp...</td>\n",
       "    </tr>\n",
       "  </tbody>\n",
       "</table>\n",
       "</div>"
      ],
      "text/plain": [
       "   listing_id       id        date  reviewer_id reviewer_name  \\\n",
       "0     1178162  4724140  2013-05-21      4298113       Olivier   \n",
       "1     1178162  4869189  2013-05-29      6452964     Charlotte   \n",
       "2     1178162  5003196  2013-06-06      6449554     Sebastian   \n",
       "3     1178162  5150351  2013-06-15      2215611        Marine   \n",
       "4     1178162  5171140  2013-06-16      6848427        Andrew   \n",
       "\n",
       "                                            comments  \n",
       "0  My stay at islam's place was really cool! Good...  \n",
       "1  Great location for both airport and city - gre...  \n",
       "2  We really enjoyed our stay at Islams house. Fr...  \n",
       "3  The room was nice and clean and so were the co...  \n",
       "4  Great location. Just 5 mins walk from the Airp...  "
      ]
     },
     "execution_count": 3,
     "metadata": {},
     "output_type": "execute_result"
    }
   ],
   "source": [
    "reviews.head()"
   ]
  },
  {
   "cell_type": "markdown",
   "metadata": {
    "_cell_guid": "4d8a0a29-cc15-0fd9-aee5-53b16b149422"
   },
   "source": [
    "## Sentiment Analysis\n",
    "\n",
    "First we note the highly skewed distribution of reviews on the Internet: many many positives, not many negatives. This holds just as true on AirBnB as everywhere else."
   ]
  },
  {
   "cell_type": "code",
   "execution_count": 4,
   "metadata": {
    "_cell_guid": "ca0a35f5-747f-9d34-0fe1-8a4c5702db21"
   },
   "outputs": [
    {
     "data": {
      "text/plain": [
       "<AxesSubplot:>"
      ]
     },
     "execution_count": 4,
     "metadata": {},
     "output_type": "execute_result"
    },
    {
     "data": {
      "image/png": "[encoded data removed]",
      "text/plain": [
       "<Figure size 432x288 with 1 Axes>"
      ]
     },
     "metadata": {
      "needs_background": "light"
     },
     "output_type": "display_data"
    }
   ],
   "source": [
    "listings['review_scores_rating'].sort_values().reset_index(drop=True).dropna().plot()"
   ]
  },
  {
   "cell_type": "markdown",
   "metadata": {
    "_cell_guid": "5aa69416-56fd-c5e1-f5bf-c0b5575e107d"
   },
   "source": [
    "There's an XKCD for this."
   ]
  },
  {
   "cell_type": "code",
   "execution_count": null,
   "metadata": {
    "_cell_guid": "72022f75-fcf2-86e7-6a97-3fde69eb4502"
   },
   "outputs": [],
   "source": [
    "from IPython.display import Image\n",
    "\n",
    "Image(\"https://imgs.xkcd.com/comics/star_ratings.png\")"
   ]
  },
  {
   "cell_type": "markdown",
   "metadata": {
    "_cell_guid": "4bf30d57-b8d6-4fe0-2693-03b4f5a340a1"
   },
   "source": [
    "Ok, let's try out sentiment analysis.\n",
    "\n",
    "Sentiment analysis is a technique in natural language processing which aims to retrieve the \"sentiment\" of a piece of text&mdash;positive, negative, or neutral. This is an easy way of summarizing the contents of a piece of text, and one that is easily understood.\n",
    "\n",
    "Note, however, that sentiment analysis is a difficult problem. Humans agree on the sentiment of sentences only 80% of the time, and the best classifiers can get around that level of accuracy, but we're going to just use a built-in analyzer in the `nltk` (natural language toolkit) Python library.\n",
    "\n",
    "So I don't expect our results to be astonishingly good, but let's see what we get..."
   ]
  },
  {
   "cell_type": "code",
   "execution_count": 10,
   "metadata": {},
   "outputs": [
    {
     "name": "stderr",
     "output_type": "stream",
     "text": [
      "[nltk_data] Downloading package stopwords to\n",
      "[nltk_data]     /Users/shukai/nltk_data...\n",
      "[nltk_data]   Unzipping corpora/stopwords.zip.\n"
     ]
    },
    {
     "data": {
      "text/plain": [
       "True"
      ]
     },
     "execution_count": 10,
     "metadata": {},
     "output_type": "execute_result"
    }
   ],
   "source": [
    "import nltk\n",
    "# nltk.download('vader_lexicon')\n",
    "# nltk.download('stopwords')"
   ]
  },
  {
   "cell_type": "code",
   "execution_count": 7,
   "metadata": {
    "_cell_guid": "08b49520-905c-3ada-4f59-69984047f04f"
   },
   "outputs": [
    {
     "name": "stdout",
     "output_type": "stream",
     "text": [
      "My stay at islam's place was really cool! Good location, 5min away from subway, then 10min from downtown. The room was nice, all place was clean. Islam managed pretty well our arrival, even if it was last minute ;) i do recommand this place to any airbnb user :)\n",
      "compound: 0.9626, neg: 0.0, neu: 0.648, pos: 0.352, \n",
      "Great location for both airport and city - great amenities in the house: Plus Islam was always very helpful even though he was away\n",
      "compound: 0.9061, neg: 0.0, neu: 0.639, pos: 0.361, \n",
      "We really enjoyed our stay at Islams house. From the outside the house didn't look so inviting but the inside was very nice! Even though Islam himself was not there everything was prepared for our arrival. The airport T Station is only a 5-10 min walk away. The only little issue was that all the people in the house had to share one bathroom. But it was not really a problem and it worked out fine. We would recommend Islams place for a stay in Boston. \n",
      "compound: 0.9663, neg: 0.0, neu: 0.767, pos: 0.233, \n",
      "The room was nice and clean and so were the commodities. Very close to the airport metro station and located in quite safe area. Islam responds very quickly and is very helpful. I would recommend it. \n",
      "compound: 0.9267, neg: 0.0, neu: 0.673, pos: 0.327, \n",
      "Great location. Just 5 mins walk from the Airport Station. Good food nearby.\r\n",
      "Room was simple, clean, just what I was after.\n",
      "compound: 0.8658, neg: 0.0, neu: 0.637, pos: 0.363, \n"
     ]
    }
   ],
   "source": [
    "from nltk.sentiment.vader import SentimentIntensityAnalyzer\n",
    "sid = SentimentIntensityAnalyzer()\n",
    "for sentence in reviews['comments'].values[:5]:\n",
    "    print(sentence)\n",
    "    ss = sid.polarity_scores(sentence)\n",
    "    for k in sorted(ss):\n",
    "        print('{0}: {1}, '.format(k, ss[k]), end='')\n",
    "    print()"
   ]
  },
  {
   "cell_type": "markdown",
   "metadata": {
    "_cell_guid": "d3732af9-7580-8e85-ab01-5850e387c7b1"
   },
   "source": [
    "Our reviews contain both null reviews and reviews in other languages. [langdetect](https://github.com/Mimino666/langdetect) makes this trivially easy, but it doesn't install on Kaggle for whatever reason. `nltk` can do this too, but for whatever reason it doesn't have a built-in for it. We'll use the following bit of code to filter out non English-language reviews, borrowed from elsewhere:"
   ]
  },
  {
   "cell_type": "code",
   "execution_count": 12,
   "metadata": {
    "_cell_guid": "0170718f-c10a-9597-4080-03fc8a2062cc"
   },
   "outputs": [],
   "source": [
    "# Snippet from:\n",
    "# http://h6o6.com/2012/12/detecting-language-with-python-and-the-natural-language-toolkit-nltk/\n",
    "\n",
    "from nltk.corpus import stopwords   # stopwords to detect language\n",
    "from nltk import wordpunct_tokenize # function to split up our words\n",
    "\n",
    "def get_language_likelihood(input_text):\n",
    "    \"\"\"Return a dictionary of languages and their likelihood of being the \n",
    "    natural language of the input text\n",
    "    \"\"\"\n",
    " \n",
    "    input_text = input_text.lower()\n",
    "    input_words = wordpunct_tokenize(input_text)\n",
    " \n",
    "    language_likelihood = {}\n",
    "    total_matches = 0\n",
    "    for language in stopwords._fileids:\n",
    "        language_likelihood[language] = len(set(input_words) &\n",
    "                set(stopwords.words(language)))\n",
    " \n",
    "    return language_likelihood\n",
    " \n",
    "def get_language(input_text):\n",
    "    \"\"\"Return the most likely language of the given text\n",
    "    \"\"\" \n",
    "    likelihoods = get_language_likelihood(input_text)\n",
    "    return sorted(likelihoods, key=likelihoods.get, reverse=True)[0]"
   ]
  },
  {
   "cell_type": "code",
   "execution_count": 11,
   "metadata": {
    "_cell_guid": "f3e5adc8-a02d-1dbb-491f-d11553877c92"
   },
   "outputs": [],
   "source": [
    "reviews_f = [r for r in reviews['comments'] if pd.notnull(r) and get_language(r) == 'english']"
   ]
  },
  {
   "cell_type": "markdown",
   "metadata": {
    "_cell_guid": "de65573d-d16b-8e06-c07d-0a735ca390b1"
   },
   "source": [
    "Generate our scores."
   ]
  },
  {
   "cell_type": "code",
   "execution_count": 14,
   "metadata": {
    "_cell_guid": "430ff746-2d6a-7470-bc72-40df38b43dd8"
   },
   "outputs": [],
   "source": [
    "pscores = [sid.polarity_scores(comment) for comment in reviews_f]"
   ]
  },
  {
   "cell_type": "markdown",
   "metadata": {
    "_cell_guid": "75026058-255a-e0f0-4a90-bac37166dba8"
   },
   "source": [
    "How do we score on...\n",
    "\n",
    "**Neutrality**"
   ]
  },
  {
   "cell_type": "code",
   "execution_count": null,
   "metadata": {
    "_cell_guid": "c4b64b2b-0d92-b5e9-072c-c6495e7fdcd8"
   },
   "outputs": [],
   "source": [
    "pd.Series([score['neu'] for score in pscores]).plot(kind='hist')"
   ]
  },
  {
   "cell_type": "markdown",
   "metadata": {
    "_cell_guid": "3b69ad15-bf88-0072-6b51-2f6255b0da0d"
   },
   "source": [
    "**Positivity**"
   ]
  },
  {
   "cell_type": "code",
   "execution_count": null,
   "metadata": {
    "_cell_guid": "b2646d83-a6b4-c252-3cdd-7896eff0e7e8"
   },
   "outputs": [],
   "source": [
    "pd.Series([score['pos'] for score in pscores]).plot(kind='hist')"
   ]
  },
  {
   "cell_type": "markdown",
   "metadata": {
    "_cell_guid": "15c5f430-fc35-0d30-dc74-a0de5fc29d88"
   },
   "source": [
    "**Negativity**.\n",
    "\n",
    "Almost none of the texts are classified as having significant amounts of negativity! In fact, a significant amount of them are given exactly 0.0 negativity."
   ]
  },
  {
   "cell_type": "code",
   "execution_count": null,
   "metadata": {
    "_cell_guid": "87e3dcda-5dd2-2a8e-1ba2-8da0019d67be"
   },
   "outputs": [],
   "source": [
    "pd.Series([score['neg'] for score in pscores]).plot(kind='hist', bins=100)"
   ]
  },
  {
   "cell_type": "markdown",
   "metadata": {
    "_cell_guid": "05b5d33a-e9e5-d3ca-24bc-13f3255062da"
   },
   "source": [
    "These charts tell us about the characteristics of the off-the-shelf sentiment classifier that we are used and its performance on our dataset. Although the compound score is supposed to be the best estimate of overall sentiment (not shown in the charts above), the fact that negativities are ranked so lowly hints that we're doing a not so great job with this."
   ]
  },
  {
   "cell_type": "code",
   "execution_count": null,
   "metadata": {
    "_cell_guid": "555ac2da-ff20-2ae0-6a8f-ae71082fa3e3"
   },
   "outputs": [],
   "source": [
    "scored_reviews = pd.DataFrame()\n",
    "scored_reviews['review'] = [r for r in reviews_f if get_language(r) == 'english']\n",
    "scored_reviews['compound'] = [score['compound'] for score in pscores]\n",
    "scored_reviews['negativity'] = [score['neg'] for score in pscores]\n",
    "scored_reviews['neutrality'] = [score['neu'] for score in pscores]\n",
    "scored_reviews['positivity'] = [score['pos'] for score in pscores]"
   ]
  },
  {
   "cell_type": "code",
   "execution_count": null,
   "metadata": {
    "_cell_guid": "59f41a9d-17a4-e9a5-0a9b-9e191521d9a0"
   },
   "outputs": [],
   "source": [
    "scored_reviews.head()"
   ]
  },
  {
   "cell_type": "markdown",
   "metadata": {
    "_cell_guid": "56371844-ac35-c85c-0d03-751c1ef45c86"
   },
   "source": [
    "Let's look at our positive-negativity reviews. A lot of these aren't negative at all."
   ]
  },
  {
   "cell_type": "code",
   "execution_count": null,
   "metadata": {
    "_cell_guid": "0f772edf-8031-c08b-6039-e0dbc67f285b"
   },
   "outputs": [],
   "source": [
    "scored_reviews.query('negativity > 0')"
   ]
  },
  {
   "cell_type": "markdown",
   "metadata": {
    "_cell_guid": "6188b3b6-ecaa-5364-06b0-55856bae3508"
   },
   "source": [
    "Here are two that are:"
   ]
  },
  {
   "cell_type": "code",
   "execution_count": null,
   "metadata": {
    "_cell_guid": "c334ab23-f194-3e9a-221d-368eeeb7279f"
   },
   "outputs": [],
   "source": [
    "scored_reviews.iloc[23]['review']"
   ]
  },
  {
   "cell_type": "code",
   "execution_count": null,
   "metadata": {
    "_cell_guid": "5e202b6f-0de4-5edc-0177-f877a624c88a"
   },
   "outputs": [],
   "source": [
    "scored_reviews.iloc[28]['review']"
   ]
  },
  {
   "cell_type": "markdown",
   "metadata": {
    "_cell_guid": "1c5a927b-f3fb-a84f-be8b-21d9a44b18b4"
   },
   "source": [
    "Some more fiddling with queries..."
   ]
  },
  {
   "cell_type": "code",
   "execution_count": null,
   "metadata": {
    "_cell_guid": "502849e8-ae5a-3773-bce6-f0257ee412e0"
   },
   "outputs": [],
   "source": [
    "scored_reviews.query('negativity > positivity').query('negativity > 0.1')"
   ]
  },
  {
   "cell_type": "code",
   "execution_count": null,
   "metadata": {
    "_cell_guid": "07fcb6d1-f446-1547-67a8-0d93aece1bae"
   },
   "outputs": [],
   "source": [
    "scored_reviews.query('negativity > positivity').query('compound < -0.2')"
   ]
  },
  {
   "cell_type": "markdown",
   "metadata": {
    "_cell_guid": "daec95ac-b9e2-2eb7-e2e0-d79c62a37e3d"
   },
   "source": [
    "Here's an example of the kind of (funny, sarcastic) review that seriously trips our classifier up:"
   ]
  },
  {
   "cell_type": "code",
   "execution_count": null,
   "metadata": {
    "_cell_guid": "c8e78cd9-7064-6136-1fc9-f4fba26ab493"
   },
   "outputs": [],
   "source": [
    "scored_reviews.iloc[1181]['review']"
   ]
  },
  {
   "cell_type": "markdown",
   "metadata": {
    "_cell_guid": "efdc9ef7-1c70-8e89-677b-d2ac360c7ea0"
   },
   "source": [
    "Here's another one. In this text's case even though we would say the sentiment with regards to the *lister* is positive, the sentiment of the overall paragraph is *negative* because of the renter's unfortunate experience with food poisoning, being \"horrendously sick\", etc.\n",
    "\n",
    "This is a limitation inherent in all sentiment classification tasks. The best way to get around this is to use a technique called chunking to extract what sentiment is attached to what thing in the text, but that gets complicated very quickly."
   ]
  },
  {
   "cell_type": "code",
   "execution_count": null,
   "metadata": {
    "_cell_guid": "8900f2ea-977e-af5c-1be5-163cc6053706"
   },
   "outputs": [],
   "source": [
    "scored_reviews.iloc[63836]['review']"
   ]
  },
  {
   "cell_type": "markdown",
   "metadata": {
    "_cell_guid": "c9427258-0b6d-e8fd-21d7-918a29461a2a"
   },
   "source": [
    "Here are two more bad reviews because why not:"
   ]
  },
  {
   "cell_type": "code",
   "execution_count": null,
   "metadata": {
    "_cell_guid": "840d06fa-7d27-7234-3641-7363c8a7f1b9"
   },
   "outputs": [],
   "source": [
    "scored_reviews.iloc[62984]['review']"
   ]
  },
  {
   "cell_type": "code",
   "execution_count": null,
   "metadata": {
    "_cell_guid": "f84afc08-35e7-9a1b-1858-ac60623ac37d"
   },
   "outputs": [],
   "source": [
    "scored_reviews.iloc[198]['review']"
   ]
  },
  {
   "cell_type": "markdown",
   "metadata": {
    "_cell_guid": "432438a6-d77c-750c-ee36-9dcff20db5ba"
   },
   "source": [
    "We'll actually stop here. It's pretty clear that our sentiment analyzer is not doing a good enough job separating the wheat from the chaff to use our results for anything! That's unfortunate, but understandable.\n",
    "\n",
    "There's a number of pre-processing techniques that we could apply to our dataset to make our sentiment analyzer work better (Google it!). We could also try a different sentiment analyzer (like the IBM or HP ones, available via API), particularly one perhaps better suited for the \"Internet reviews\" domain, and see if that would get better results."
   ]
  },
  {
   "cell_type": "markdown",
   "metadata": {
    "_cell_guid": "278b8347-e3a8-7c31-03c4-8c1790ef214e"
   },
   "source": [
    "## Collocation\n",
    "\n",
    "According to Wikipedia \"a collocation is a sequence of words or terms that co-occur more often than would be expected by chance.\" What we want to attempt now is to use `nltk` to find collocations which have a high amount of importance in the text, and we'd like to take and display them as \"summaries\" of our texts.\n",
    "\n",
    "How do we tell when a particular combination of words is important? One way of doing it is look at those word's [pointwise mutual information](https://en.wikipedia.org/wiki/Pointwise_mutual_information).  This is a metric which attached significance to words which appear next to one another in the text, for whom such co-occurrences are far-above-averagely-common, and which are otherwise rarely used in the language. According to this metric, for example, the words \"puerto\" and \"rico\" have a very high PMI, while the words \"to\" and \"in\" have a very low one.\n",
    "\n",
    "If you use Yelp! a lot you are probably familiar with Yelp's so-called [review highlights](https://www.yelp-support.com/article/What-are-Review-Highlights?l=en_US). These kick in after a location has had a certain reasonably large amount of reviews written, and show, by default, snippets of three reviews mentioning a combination of words which appears especially often in reviews for the location. [Here's an example](https://www.yelp.com/biz/chelsea-market-new-york) of these highlights in action.\n",
    "\n",
    "An answer on StackOverflow says that these highlights are probably implemented using [precisely the techniques spoken about above](http://stackoverflow.com/questions/2452982/how-to-extract-common-significant-phrases-from-a-series-of-text-entries). What we're going to now try and do is replicate Yelp! review highlights with AirBnB review highlights!"
   ]
  },
  {
   "cell_type": "code",
   "execution_count": null,
   "metadata": {
    "_cell_guid": "f58f8046-0e30-a653-d691-a9ee8a86d759"
   },
   "outputs": [],
   "source": [
    "reviews_df = reviews[reviews.apply(lambda srs: pd.notnull(srs['comments']) and (get_language(srs['comments']) == 'english'), axis='columns')]"
   ]
  },
  {
   "cell_type": "markdown",
   "metadata": {
    "_cell_guid": "fa98cb44-d87a-271d-09e5-e7d2fbbb11b5"
   },
   "source": [
    "Let's try and find interesting word combinations for an example listing, just to see if it's possible. In this case we're picking an ID with 200 reviews to it, a substantial number which should hopefully let us mine good subject commonalities between them.\n",
    "\n",
    "Note that in this case our \"combinations of words\" means bigrams: pairs of two words which appear right next to each other in the text. This can be extended to n-grams of arbitrary size, if you're so inclined, and Yelp! uses n-gram sizes between 1 and 3, but for simplicity's sake we're going to stick to bigrams (2-grams) here."
   ]
  },
  {
   "cell_type": "code",
   "execution_count": null,
   "metadata": {
    "_cell_guid": "d57ae7bb-087b-0311-d0a7-b49710851f96"
   },
   "outputs": [],
   "source": [
    "example_listing_reviews = reviews_df.query('listing_id == 1178162')"
   ]
  },
  {
   "cell_type": "code",
   "execution_count": null,
   "metadata": {
    "_cell_guid": "8d27e0e9-77fd-bb0c-1981-9a5554bdf530"
   },
   "outputs": [],
   "source": [
    "len(example_listing_reviews)"
   ]
  },
  {
   "cell_type": "code",
   "execution_count": null,
   "metadata": {
    "_cell_guid": "727d3c15-3191-5e46-2db4-6cd9d2b36d54"
   },
   "outputs": [],
   "source": [
    "from nltk import word_tokenize"
   ]
  },
  {
   "cell_type": "code",
   "execution_count": null,
   "metadata": {
    "_cell_guid": "cf1470a1-41ef-d1c6-e49e-1e44fb7b348e"
   },
   "outputs": [],
   "source": [
    "words = np.concatenate(np.array([word_tokenize(r) for r in example_listing_reviews['comments'].values]))"
   ]
  },
  {
   "cell_type": "code",
   "execution_count": null,
   "metadata": {
    "_cell_guid": "2365a96d-2c55-b61d-4a71-41b091e6c89e"
   },
   "outputs": [],
   "source": [
    "words"
   ]
  },
  {
   "cell_type": "code",
   "execution_count": null,
   "metadata": {
    "_cell_guid": "80b489f0-d02f-74e7-ccc1-c5761629a2f7"
   },
   "outputs": [],
   "source": [
    "from nltk.collocations import BigramAssocMeasures, TrigramAssocMeasures, BigramCollocationFinder\n",
    "\n",
    "bigram_measures = BigramAssocMeasures()\n",
    "finder = BigramCollocationFinder.from_words(words)\n",
    "\n",
    "finder.apply_freq_filter(3) \n",
    "finder.nbest(bigram_measures.pmi, 10)  "
   ]
  },
  {
   "cell_type": "markdown",
   "metadata": {
    "_cell_guid": "cc0530d7-e77a-3496-931a-6f586001bef8"
   },
   "source": [
    "Ok great. How many reviews do we have to work with per location?"
   ]
  },
  {
   "cell_type": "code",
   "execution_count": null,
   "metadata": {
    "_cell_guid": "e554fa3b-bba2-3408-e7fa-29cc3876f979"
   },
   "outputs": [],
   "source": [
    "reviews_df.groupby('listing_id')['comments'].count().plot(kind='hist', bins=20)"
   ]
  },
  {
   "cell_type": "markdown",
   "metadata": {
    "_cell_guid": "cd6aaff1-c18b-e0ea-b4b1-54494df65d7e"
   },
   "source": [
    "To process the words we're going to use a `BigramCollocationFinder`, which expects all of the text from our reviews, tokenized into individual words, as input. To do that we're going to use the `nltk` `word_tokenize` method on the words, then run a couple of maps on the result to tweak a couple of things: remove punctionation marks and recombine contractions that `word_tokenize` splits up (`word_tokenize` will render `didn't` as `[\"did\", \"n't\"]` for example, which we don't want."
   ]
  },
  {
   "cell_type": "code",
   "execution_count": null,
   "metadata": {
    "_cell_guid": "5c9314dd-a68c-c7fa-d392-4c091295f879"
   },
   "outputs": [],
   "source": [
    "review_words = reviews_df.groupby('listing_id').apply(\n",
    "    lambda df: np.concatenate(np.array([word_tokenize(r) for r in df['comments'].values]))\n",
    ")"
   ]
  },
  {
   "cell_type": "code",
   "execution_count": null,
   "metadata": {
    "_cell_guid": "8f05bb1f-4f73-350f-3730-b864c5ec6c2c"
   },
   "outputs": [],
   "source": [
    "import string\n",
    "\n",
    "ex = ['Hi', 'there', '.', '?', '!', ',']\n",
    "[w for w in ex if w not in string.punctuation]"
   ]
  },
  {
   "cell_type": "code",
   "execution_count": null,
   "metadata": {
    "_cell_guid": "e2b26273-2a4c-1820-0ed5-204391012e07"
   },
   "outputs": [],
   "source": [
    "review_words_f = review_words.map(lambda arr: np.array([w for w in arr if w not in string.punctuation]))"
   ]
  },
  {
   "cell_type": "code",
   "execution_count": null,
   "metadata": {
    "_cell_guid": "e32a435c-09c3-3925-31a8-cd088373ce75"
   },
   "outputs": [],
   "source": [
    "review_words_f.head()"
   ]
  },
  {
   "cell_type": "code",
   "execution_count": null,
   "metadata": {
    "_cell_guid": "4a727854-a900-2dbf-bcbd-2fe68433d05e"
   },
   "outputs": [],
   "source": [
    "def reattach_contractions(wordlist):\n",
    "    words = []\n",
    "    for i, word in enumerate(wordlist):\n",
    "        if word[0] == \"'\" or word == \"n't\":\n",
    "            words[-1] = words[-1] + word\n",
    "        else:\n",
    "            words.append(word)\n",
    "    return words"
   ]
  },
  {
   "cell_type": "code",
   "execution_count": null,
   "metadata": {
    "_cell_guid": "1ceb6f3e-9a8d-0322-5a0b-c6d6c5b8431d"
   },
   "outputs": [],
   "source": [
    "review_words_f = review_words_f.map(reattach_contractions)"
   ]
  },
  {
   "cell_type": "markdown",
   "metadata": {
    "_cell_guid": "2683f19e-564e-35ed-4d1e-1bd66b081e8a"
   },
   "source": [
    "Ok great! Let's see how many words we're working with for each of our reviews."
   ]
  },
  {
   "cell_type": "code",
   "execution_count": null,
   "metadata": {
    "_cell_guid": "f38b3cc6-b3f7-8546-4853-57a5f416eaf8"
   },
   "outputs": [],
   "source": [
    "review_words_f.map(len).plot(kind='hist', bins=20)"
   ]
  },
  {
   "cell_type": "markdown",
   "metadata": {
    "_cell_guid": "d29e1f36-4b0d-3efc-065e-a20fe2a9877f"
   },
   "source": [
    "There's going to be some sort of cut-off in terms of the number of words that, were we to use this result in production, we would need to find. Yelp! seems to put that cutoff at 20 or so reviews; below that there's not enough information for highlighting to work.\n",
    "\n",
    "Not knowing any more about how they do things, we're just going to apply our collocation finder to all of the review texts. First we're going to retrieve a list of bigrams that appear in the review text at least three times. Then we'll pick the three \"best\" bigrams, where \"best\" means the large PMI.\n",
    "\n",
    "That's what the function below does."
   ]
  },
  {
   "cell_type": "code",
   "execution_count": null,
   "metadata": {
    "_cell_guid": "7ac337f8-6f92-57d7-8adc-28b03ba36d5f"
   },
   "outputs": [],
   "source": [
    "# from nltk.collocations import BigramAssocMeasures, TrigramAssocMeasures, BigramCollocationFinder\n",
    "\n",
    "def bigramify(words):\n",
    "    finder = BigramCollocationFinder.from_words(words)\n",
    "    finder.apply_freq_filter(3) \n",
    "    return finder.nbest(bigram_measures.pmi, 3)\n",
    "\n",
    "review_bigrams = review_words_f.map(bigramify)"
   ]
  },
  {
   "cell_type": "markdown",
   "metadata": {
    "_cell_guid": "6bee497f-cb79-1631-b941-c135e0dca3d3"
   },
   "source": [
    "Let's see what our results look like!"
   ]
  },
  {
   "cell_type": "code",
   "execution_count": null,
   "metadata": {
    "_cell_guid": "1ac64047-0e30-2170-2670-237ba6e6b846"
   },
   "outputs": [],
   "source": [
    "review_bigrams.head(20)"
   ]
  },
  {
   "cell_type": "markdown",
   "metadata": {
    "_cell_guid": "cd629ec9-f281-687e-d6cc-da66e954ffb3"
   },
   "source": [
    "Not bad! It could definitely use improvement, but we're already seeing some interesting topics recur here.\n",
    "\n",
    "Let's generate \"Yelp! style\" top-level highlights and print them to see what we get."
   ]
  },
  {
   "cell_type": "code",
   "execution_count": null,
   "metadata": {
    "_cell_guid": "58484f48-d077-aa1c-b91a-46868d65a402"
   },
   "outputs": [],
   "source": [
    "def sample_reviews(listing_id):\n",
    "    bigrams = review_bigrams[listing_id]\n",
    "    review_texts = reviews[reviews['listing_id'] == listing_id]['comments'].values\n",
    "    sample_reviews = []\n",
    "    for bigram in bigrams:\n",
    "        sample_review_list = list(filter(lambda txt: \" \".join(bigram) in txt, review_texts))\n",
    "        num_reviews = len(sample_review_list)\n",
    "        sample_review = sample_review_list[0]\n",
    "        sample_review = sample_review.replace(\" \".join(bigram), \"****\" + \" \".join(bigram) + \"****\")\n",
    "        start_index = sample_review.index(\"****\")\n",
    "        sample_text = \"...\" + sample_review[start_index - 47: start_index + 47] + \"...\"\n",
    "        sample_reviews.append(sample_text)\n",
    "    return sample_reviews"
   ]
  },
  {
   "cell_type": "markdown",
   "metadata": {
    "_cell_guid": "0f6a726a-13bb-b6ed-3c6f-f15799e43e87"
   },
   "source": [
    "For reference I'll also provide listing URLs."
   ]
  },
  {
   "cell_type": "code",
   "execution_count": null,
   "metadata": {
    "_cell_guid": "325a6abf-5b66-aac9-248d-e75c5b82ba8c"
   },
   "outputs": [],
   "source": [
    "listings.query('id == 3353')['listing_url']"
   ]
  },
  {
   "cell_type": "code",
   "execution_count": null,
   "metadata": {
    "_cell_guid": "3bf7c8a1-cd04-dd6f-dd7c-7753e7a1028e"
   },
   "outputs": [],
   "source": [
    "for review in sample_reviews(3353):\n",
    "    print(review)"
   ]
  },
  {
   "cell_type": "code",
   "execution_count": null,
   "metadata": {
    "_cell_guid": "b82c3498-dd09-2b0f-28d7-267e2e033535"
   },
   "outputs": [],
   "source": [
    "listings.query('id == 1497879')['listing_url']"
   ]
  },
  {
   "cell_type": "code",
   "execution_count": null,
   "metadata": {
    "_cell_guid": "64da336c-16f8-0577-9b95-5b44fd7ba72a"
   },
   "outputs": [],
   "source": [
    "for review in sample_reviews(1497879):\n",
    "    print(review)"
   ]
  },
  {
   "cell_type": "code",
   "execution_count": null,
   "metadata": {
    "_cell_guid": "7cb819a5-3914-3805-500f-57ab10760cee"
   },
   "outputs": [],
   "source": [
    "listings.query('id == 414419')['listing_url']"
   ]
  },
  {
   "cell_type": "code",
   "execution_count": null,
   "metadata": {
    "_cell_guid": "5aa4ccb8-4662-8a6a-0d24-1639b0745870"
   },
   "outputs": [],
   "source": [
    "for review in sample_reviews(414419):\n",
    "    print(review)"
   ]
  },
  {
   "cell_type": "code",
   "execution_count": null,
   "metadata": {
    "_cell_guid": "d11841ac-5bdc-6e4a-5b55-70f1da06c590"
   },
   "outputs": [],
   "source": [
    "listings.query('id == 1136972')['listing_url']"
   ]
  },
  {
   "cell_type": "code",
   "execution_count": null,
   "metadata": {
    "_cell_guid": "c25202df-f655-475b-3095-497792bcf78b"
   },
   "outputs": [],
   "source": [
    "for review in sample_reviews(1136972):\n",
    "    print(review)"
   ]
  },
  {
   "cell_type": "code",
   "execution_count": null,
   "metadata": {
    "_cell_guid": "54625642-c7f9-c9b9-33b1-e799b1978ab1"
   },
   "outputs": [],
   "source": [
    "for review in sample_reviews(3353):\n",
    "    print(review)"
   ]
  },
  {
   "cell_type": "markdown",
   "metadata": {
    "_cell_guid": "bf689ca4-591a-e76b-d642-81afd458b577"
   },
   "source": [
    "## Conclusion\n",
    "\n",
    "The basic `nltk` sentiment analysis built-in did not do a good job analyzing the sentiments in our sample of AirBnB reviews. Without knowing more details about how the classifier was trained (there is a paper you can read FYI) I can't say for sure why that is, exactly, but it's nevertheless an interesting limitation to keep in mind, as most Internet review texts are going to be pretty similar to the AirBnB one. Perhaps other analyzers would do a better job.\n",
    "\n",
    "Collocation with `nltk`, on the other hand, worked brilliantly! It turns out to be something that's pretty easy to do but which generates reasonably good results with just a little bit of elbow grease. You can apply this technique to just about about any reservoir of review texts out there, so keep it in mind because it's a useful tool to have under your belt!"
   ]
  }
 ],
 "metadata": {
  "_change_revision": 0,
  "_is_fork": false,
  "kernelspec": {
   "display_name": "Python 3",
   "language": "python",
   "name": "python3"
  },
  "language_info": {
   "codemirror_mode": {
    "name": "ipython",
    "version": 3
   },
   "file_extension": ".py",
   "mimetype": "text/x-python",
   "name": "python",
   "nbconvert_exporter": "python",
   "pygments_lexer": "ipython3",
   "version": "3.8.5"
  }
 },
 "nbformat": 4,
 "nbformat_minor": 1
}
